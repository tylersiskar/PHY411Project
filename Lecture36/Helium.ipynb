{
 "cells": [
  {
   "cell_type": "markdown",
   "metadata": {},
   "source": [
    "# Compute energy levels of Hydrogen Atom with Gaussian Linear Combination of Atomic Orbitals \n",
    "\n"
   ]
  },
  {
   "cell_type": "markdown",
   "metadata": {},
   "source": [
    "### Import path and add our software"
   ]
  },
  {
   "cell_type": "code",
   "execution_count": 60,
   "metadata": {},
   "outputs": [],
   "source": [
    "import os\n",
    "import sys\n",
    "\n",
    "sys.path.append( os.path.abspath('../cpt_python'))"
   ]
  },
  {
   "cell_type": "markdown",
   "metadata": {},
   "source": [
    "### Add the cpt BFGS minimization, initialize constants for 2 Gaussians"
   ]
  },
  {
   "cell_type": "code",
   "execution_count": 61,
   "metadata": {},
   "outputs": [],
   "source": [
    "from math import exp, pi, sqrt\n",
    "from cpt import minimize_BFGS\n",
    "\n",
    "\n",
    "# physical constants\n",
    "hbar = 1.0                  # Planck's constant / 2pi\n",
    "m = 1.0                     # electron mass\n",
    "e = 1.0                     # proton charge\n",
    "\n",
    "# LCAO variational wave function\n",
    "# psi = sum( d_i g(alpha_i, r) ) for i = 0, 1, 2, ...\n",
    "# assume d_0 = 1 and vary alpha_0, d_1, alpha_1, d_2, alpha_2, ...\n",
    "# vector of variational parameters\n",
    "p = [ 1.0, 1.0, 0.5 ]       # initial guess for [ alpha_0, d_1, alpha_1 ]\n",
    "N = int( (len(p) + 1) / 2 ) # number of Gaussians\n",
    "\n",
    "accuracy = 1.0e-6           # desired accuracy for numerical operations\n"
   ]
  },
  {
   "cell_type": "markdown",
   "metadata": {},
   "source": [
    "### Define the g function, matrix elements, minimization function and derivative"
   ]
  },
  {
   "cell_type": "code",
   "execution_count": 62,
   "metadata": {},
   "outputs": [],
   "source": [
    "\n",
    "def g(alpha, r):            # normalized s-wave Gaussian orbital\n",
    "    return (2.0 * alpha / pi)**(3.0/4.0) * exp(-alpha * r**2)\n",
    "\n",
    "def Sij(alpha_i, alpha_j):  # matrix elements of S\n",
    "    return (pi / (alpha_i + alpha_j))**(3.0/2.0)**2\n",
    "\n",
    "def Tij(alpha_i, alpha_j):  # matrix elements of T\n",
    "    return ((3.0 * hbar**2 /4* m )* alpha_i * alpha_j *\n",
    "            pi**(3.0/2.0) / (alpha_i + alpha_j)**(5.0/2.0))\n",
    "\n",
    "def Vij(alpha_i, alpha_j):  # matrix elements of V\n",
    "    return - 2.0 * e**2 * pi / (alpha_i + alpha_j)\n",
    "\n",
    "def E(alpha, d):            # energy as function of N alpha_i and d_i\n",
    "    S = H = 0.0\n",
    "    for i in range(len(alpha)):\n",
    "        for j in range(len(alpha)):\n",
    "            fac = (alpha[i] * alpha[j])**(3.0/4.0)* d[i] * d[j]\n",
    "            H += fac * (Tij(alpha[i], alpha[j]) + Vij(alpha[i], alpha[j]))\n",
    "            S += fac * Sij(alpha[i], alpha[j])\n",
    "    return H / S\n",
    "\n",
    "def func(p):                # function for BFGS minimization\n",
    "    # assume p = [ alpha_0, d_1, alpha_1, d_2, alpha_2, ... ]\n",
    "    alpha = [ max(p[2 * i], accuracy) for i in range(N) ]\n",
    "    d = [ 1.0 ]\n",
    "    d.extend(p[2 * i + 1] for i in range(N - 1))\n",
    "    return E(alpha, d)\n",
    "\n",
    "def dfunc(p, g):            # gradient of func for BFGS minimization\n",
    "    # use symmetric finite difference f'(x) = (f(x+eps) - f(x-eps)) / (2 eps)\n",
    "    eps = 0.5 * accuracy    # finite difference\n",
    "    for i in range(len(p)):\n",
    "        p1 = list(p)\n",
    "        p1[i] += eps\n",
    "        p2 = list(p)\n",
    "        p2[i] -= eps\n",
    "        g[i] = (func(p1) - func(p2)) / (2 * eps)\n",
    "    return\n",
    "\n",
    "def norm(p):                # norm of LCAO\n",
    "    alpha = [ p[2 * i] for i in range(N) ]\n",
    "    d = [ 1.0 ]\n",
    "    d.extend(p[2 * i + 1] for i in range(N - 1))\n",
    "    norm = 0.0\n",
    "    for i in range(N):\n",
    "        for j in range(N):\n",
    "            norm += Sij(alpha[i], alpha[j]) * d[i] * d[j]\n",
    "    return sqrt(norm)\n"
   ]
  },
  {
   "cell_type": "markdown",
   "metadata": {},
   "source": [
    "### Drive the simulation"
   ]
  },
  {
   "cell_type": "code",
   "execution_count": 63,
   "metadata": {},
   "outputs": [
    {
     "name": "stdout",
     "output_type": "stream",
     "text": [
      " Variational method for Hydrogen using Gaussian LCAO\n",
      " Minimize <psi|H|psi>/<psi|psi> using BFGS algorithm\n",
      " number of Gaussians N = 2\n",
      " number of iterations = 33\n",
      " energy E = -6.186226429608222\n",
      " i\talpha_i\t\t\td_i\n",
      " 0\t7.912375577464413\t6.06320542595612\n",
      " 1\t42.95450353943656\t1.3774586099273176\n"
     ]
    }
   ],
   "source": [
    "\n",
    "print(\" Variational method for Hydrogen using Gaussian LCAO\")\n",
    "print(\" Minimize <psi|H|psi>/<psi|psi> using BFGS algorithm\")\n",
    "gtol = accuracy\n",
    "iterations, e = minimize_BFGS(p, gtol, func, dfunc)\n",
    "print(\" number of Gaussians N = \" + repr(N))\n",
    "print(\" number of iterations = \" + repr(iterations))\n",
    "print(\" energy E = \" + repr(e))\n",
    "print(\" i\\talpha_i\\t\\t\\td_i\")\n",
    "exit\n",
    "for i in range(N):\n",
    "    alpha_i = p[2 * i]\n",
    "    if i == 0:\n",
    "        d_i = 1.0 / norm(p)\n",
    "    else:\n",
    "        d_i = p[2 * i - 1] / norm(p)\n",
    "    print(\" \" + repr(i) + \"\\t\" + repr(p[2*i]) + \"\\t\" + repr(d_i))\n"
   ]
  },
  {
   "cell_type": "code",
   "execution_count": null,
   "metadata": {},
   "outputs": [],
   "source": []
  },
  {
   "cell_type": "code",
   "execution_count": null,
   "metadata": {},
   "outputs": [],
   "source": []
  },
  {
   "cell_type": "code",
   "execution_count": null,
   "metadata": {},
   "outputs": [],
   "source": []
  },
  {
   "cell_type": "code",
   "execution_count": null,
   "metadata": {},
   "outputs": [],
   "source": []
  }
 ],
 "metadata": {
  "kernelspec": {
   "display_name": "Python2",
   "language": "python",
   "name": "python2"
  },
  "language_info": {
   "codemirror_mode": {
    "name": "ipython",
    "version": 2
   },
   "file_extension": ".py",
   "mimetype": "text/x-python",
   "name": "python",
   "nbconvert_exporter": "python",
   "pygments_lexer": "ipython2",
   "version": "2.7.14"
  }
 },
 "nbformat": 4,
 "nbformat_minor": 2
}
